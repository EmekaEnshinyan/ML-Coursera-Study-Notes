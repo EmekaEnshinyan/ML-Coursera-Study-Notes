{
 "cells": [
  {
   "cell_type": "code",
   "execution_count": 1,
   "metadata": {},
   "outputs": [],
   "source": [
    "import pandas as pd\n",
    "import numpy as np"
   ]
  },
  {
   "cell_type": "code",
   "execution_count": 2,
   "metadata": {},
   "outputs": [
    {
     "name": "stdout",
     "output_type": "stream",
     "text": [
      "   0     1     2\n",
      "0  1     2     3\n",
      "1  a     b     c\n",
      "2  4  None  None\n",
      "3  5  None  None\n",
      "\n",
      "         0\n",
      "0  string1\n",
      "1  string2\n",
      "2  string3\n",
      "3  string4\n",
      "shape: (4, 3)\n",
      "(4, 1)\n",
      "['string4']\n",
      "['string2', 'string3', 'string4']\n"
     ]
    },
    {
     "data": {
      "text/plain": [
       "[]"
      ]
     },
     "execution_count": 2,
     "metadata": {},
     "output_type": "execute_result"
    }
   ],
   "source": [
    "#create list \n",
    "\n",
    "ls = [[1, 2, 3], ['a', 'b', 'c'], [4], [5]]\n",
    "lss = ['string1', 'string2', 'string3', 'string4']\n",
    "str = [\"string\"]\n",
    "#makes into a table-like format with \"None\" filling in for items not included in obj argument\n",
    "#NOTE that the rows and columns are labeled with ints\n",
    "df = pd.DataFrame(ls)\n",
    "dff = pd.DataFrame(lss)\n",
    "print(f\"{df}\\n\")\n",
    "print(dff)\n",
    "#returns the dimensions of the obj\n",
    "#as opposed to providing dimensions of obj, when [0] is added, it returns the number of elements in the list only\n",
    "print(f\"shape: {df.shape}\")\n",
    "#returns a tuple of the dimensionality of the DataFrame object   (how many elements, the number of lists)\n",
    "print(dff.shape)\n",
    "print(lss[-1:])\n",
    "print(lss[-3:])\n",
    "str[1:2]    \n"
   ]
  },
  {
   "cell_type": "code",
   "execution_count": 3,
   "metadata": {},
   "outputs": [
    {
     "name": "stdout",
     "output_type": "stream",
     "text": [
      "np.zeros(4) :   a = [0 0 0 0], a shape = (4,), a data type = int64\n",
      "np.zeros(4,) :  a = [1. 1. 1. 1.], a shape = (4,), a data type = float64\n",
      "np.random.random_sample(4): a = [], a shape = (0,), a data type = float64\n"
     ]
    }
   ],
   "source": [
    "#np.zeros(x) creates n-dimensional array of zeros\n",
    "#these are considered general ndarry creation functions\n",
    "a = np.zeros(4, int);                print(f\"np.zeros(4) :   a = {a}, a shape = {a.shape}, a data type = {a.dtype}\")\n",
    "a = np.ones((4,));             print(f\"np.zeros(4,) :  a = {a}, a shape = {a.shape}, a data type = {a.dtype}\")\n",
    "#np.random.random_sample(x) creates x number of rand float64 numbers and place them in array\n",
    "a = np.random.random_sample(0); print(f\"np.random.random_sample(4): a = {a}, a shape = {a.shape}, a data type = {a.dtype}\")\n"
   ]
  },
  {
   "cell_type": "code",
   "execution_count": 4,
   "metadata": {},
   "outputs": [
    {
     "name": "stdout",
     "output_type": "stream",
     "text": [
      "np.arange(4.):     a = [0. 1. 2. 3.], a shape = (4,), a data type = float64\n",
      "np.random.rand(4): a = [0.65159536 0.31386205 0.63785259 0.68099844], a shape = (4,), a data type = float64\n"
     ]
    }
   ],
   "source": [
    "# NumPy routines which allocate memory and fill arrays with value but do not accept shape as input argument\n",
    "a = np.arange(4.);              print(f\"np.arange(4.):     a = {a}, a shape = {a.shape}, a data type = {a.dtype}\")\n",
    "a = np.random.rand(4);          print(f\"np.random.rand(4): a = {a}, a shape = {a.shape}, a data type = {a.dtype}\")\n"
   ]
  },
  {
   "cell_type": "code",
   "execution_count": 5,
   "metadata": {},
   "outputs": [
    {
     "name": "stdout",
     "output_type": "stream",
     "text": [
      "a is [1 2 3 4]\n",
      "b is [-1 -2 -3 -4]\n",
      "[1 2 3]\n"
     ]
    }
   ],
   "source": [
    "#indexing and slicing vectors\n",
    "a = np.array([1,2,3,4])\n",
    "print(f\"a is {a}\")\n",
    "#negate elements of a\n",
    "b = -a\n",
    "print(f\"b is {b}\")\n",
    "#working with tuples\n",
    "atuple = np.array((1,2,3), dtype=np.int32)\n",
    "print(atuple)\n"
   ]
  },
  {
   "cell_type": "code",
   "execution_count": 6,
   "metadata": {},
   "outputs": [
    {
     "name": "stdout",
     "output_type": "stream",
     "text": [
      "[1 2 3 4 5 6 7 8 9]\n",
      "[2.  2.1 2.2 2.3 2.4 2.5 2.6 2.7 2.8 2.9]\n"
     ]
    }
   ],
   "source": [
    "#NumPy's array creation funcitons\n",
    "#1D array of incrementing values\n",
    "oneDimenstion_1 = np.arange(1,10)\n",
    "print(oneDimenstion_1)\n",
    "oneDimention_2 = np.arange(2,3,0.1) #how does this work?\n",
    "print(oneDimention_2)\n"
   ]
  },
  {
   "cell_type": "code",
   "execution_count": 9,
   "metadata": {},
   "outputs": [
    {
     "name": "stdout",
     "output_type": "stream",
     "text": [
      "[[1. 0. 0.]\n",
      " [0. 1. 0.]\n",
      " [0. 0. 1.]] \n",
      " \n",
      " [[1. 0. 0. 0. 0.]\n",
      " [0. 1. 0. 0. 0.]\n",
      " [0. 0. 1. 0. 0.]] \n",
      "\n",
      "[[1 0 0]\n",
      " [0 2 0]\n",
      " [0 0 3]] \n",
      "\n",
      "[[ 1  1  1]\n",
      " [ 4  2  1]\n",
      " [ 9  3  1]\n",
      " [16  4  1]\n",
      " [25  5  1]\n",
      " [36  6  1]\n",
      " [49  7  1]\n",
      " [64  8  1]\n",
      " [81  9  1]]\n"
     ]
    }
   ],
   "source": [
    "#2d array creation functions\n",
    "#np.eye creates the arrays within arrays with the parameter being the number of elements. the el will be 1s and 0s\n",
    "twoDimention_1 = np.eye(3)\n",
    "print(f\"{twoDimention_1} \\n \")\n",
    "#add a second argument to dictate the # of el in each array\n",
    "twoDimension_2 = np.eye(3, 5)\n",
    "print(f\" {twoDimension_2} \\n\")\n",
    "#creating a 2D square array for linear algebra\n",
    "#can return values along the diagnoal el\n",
    "square_1 = np.diag([1,2,3]) #requires obj\n",
    "print(f\"{square_1} \\n\")\n",
    "#can create vandermode matrices: each col of matrix is a decreasing power of the input 1D array, x where the\n",
    "    #highest polynomial order is n-1. helpful for creating linear least squares models\n",
    "vander_1 = np.vander([1,2,3,4,5,6,7,8,9], 3) #second param dictates how many squared el in each array\n",
    "print(vander_1)"
   ]
  },
  {
   "cell_type": "code",
   "execution_count": null,
   "metadata": {},
   "outputs": [],
   "source": []
  }
 ],
 "metadata": {
  "kernelspec": {
   "display_name": "base",
   "language": "python",
   "name": "python3"
  },
  "language_info": {
   "codemirror_mode": {
    "name": "ipython",
    "version": 3
   },
   "file_extension": ".py",
   "mimetype": "text/x-python",
   "name": "python",
   "nbconvert_exporter": "python",
   "pygments_lexer": "ipython3",
   "version": "3.9.12"
  },
  "orig_nbformat": 4
 },
 "nbformat": 4,
 "nbformat_minor": 2
}
